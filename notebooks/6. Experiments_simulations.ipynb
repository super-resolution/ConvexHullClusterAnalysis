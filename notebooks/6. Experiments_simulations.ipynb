{
 "cells": [
  {
   "cell_type": "markdown",
   "id": "39c6c31b-983d-4ee5-9859-33b09afa16b9",
   "metadata": {},
   "source": [
    "# Convex hull as diagnostic tool in single-molecule localization microscopy\n",
    "# Investigation and simulation of localization data with varying intensities"
   ]
  },
  {
   "cell_type": "code",
   "execution_count": 4,
   "id": "42dd4e85-e7af-4d1d-8477-d83fce1c6163",
   "metadata": {},
   "outputs": [],
   "source": [
    "import numpy as np\n",
    "import locan as lc\n",
    "from sklearn.cluster import DBSCAN\n",
    "from scipy.stats import gamma\n",
    "from scipy.stats import norm, gennorm\n",
    "\n",
    "import py_files.simulations as si\n",
    "import py_files.cluster_properties as cp\n",
    "import py_files.standard_deviation_determination as stdd\n",
    "from py_files.matplotlib_custom import second_axis_log, second_axis\n",
    "import py_files.truncated_gamma_fit as tgf\n",
    "\n",
    "import colorcet as cc\n",
    "import boost_histogram as bh\n",
    "from matplotlib import rcParams\n",
    "import matplotlib.pyplot as plt\n",
    "import matplotlib.ticker as ticker"
   ]
  },
  {
   "cell_type": "markdown",
   "id": "4ac464ea-e34f-451a-8abd-708a50999161",
   "metadata": {},
   "source": [
    "### Load experimental data"
   ]
  },
  {
   "cell_type": "code",
   "execution_count": 5,
   "id": "d1d36d3d-7882-41d8-b71b-1377e9951389",
   "metadata": {},
   "outputs": [],
   "source": [
    "exp_path = r\"experimental_data\\CD45_647_7_roi_0.yaml\"\n",
    "roi = lc.Roi.from_yaml(exp_path)\n",
    "roi.reference.file_path = r\"experimental_data\\CD45_647_7.txt\"\n",
    "locdata = roi.locdata()\n",
    "condition = \"0 < frame < 15000 and 0 < intensity and local_background < 1200\"\n",
    "locdata = lc.select_by_condition(locdata, condition=condition)\n",
    "locdata.reduce();\n",
    "\n",
    "samples_exp = locdata.coordinates\n",
    "\n",
    "\n",
    "# for 2D histogram\n",
    "clust_labels_exp = DBSCAN(eps=25, min_samples=3).fit_predict(samples_exp)\n",
    "_, sample_count_exp, area_chs_exp, _ = cp.cluster_property(clust_labels_exp, samples_exp)\n",
    "experimental_data = np.concatenate(([sample_count_exp], [area_chs_exp]))  "
   ]
  },
  {
   "cell_type": "markdown",
   "id": "246e9e98-f2f7-4dcd-90e7-82ac591fd8cd",
   "metadata": {},
   "source": [
    "## Intensities and photon counts\n",
    "The photon counts can be received with a known digital conversion factor f by $N=\\frac{I}{f}$, where $I$ is the measured intensity."
   ]
  },
  {
   "cell_type": "code",
   "execution_count": 6,
   "id": "e2b8eb13-a07b-43d7-b1d5-7300a6b99409",
   "metadata": {},
   "outputs": [
    {
     "name": "stdout",
     "output_type": "stream",
     "text": [
      "The mean intensity is 21738.64, the minimum intensity is 8001.07, the maximum intensity is 142315.00\n",
      "The mean photon count is 6431.55, the minimum photon count is 2367.18,  the maximum photon count is 42105.03\n"
     ]
    }
   ],
   "source": [
    "intensities = locdata.data[\"intensity\"].to_numpy()\n",
    "intensity_mean = np.mean(intensities)\n",
    "intensity_min = np.min(intensities)\n",
    "intensity_max = np.max(intensities)\n",
    "\n",
    "factor = 3.38\n",
    "photon_counts = si.intensity_to_photons(intensities, factor)\n",
    "photon_counts_mean = np.mean(photon_counts)\n",
    "photon_counts_min = np.min(photon_counts)\n",
    "photon_counts_max = np.max(photon_counts)\n",
    "\n",
    "print(f\"The mean intensity is {intensity_mean:.2f}, the minimum intensity is {intensity_min:.2f}, the maximum\" +\n",
    "      f\" intensity is {intensity_max:.2f}\")\n",
    "print(f\"The mean photon count is {photon_counts_mean:.2f}, the minimum photon count is {photon_counts_min:.2f}, \" +\n",
    "      f\" the maximum photon count is {photon_counts_max:.2f}\")"
   ]
  },
  {
   "cell_type": "markdown",
   "id": "0b421649-764b-4217-b2ff-c944030c2ea2",
   "metadata": {},
   "source": [
    "#### Visualization of photon counts"
   ]
  },
  {
   "cell_type": "code",
   "execution_count": 7,
   "id": "9516a9a4-0717-4b21-8b73-bf3e0e03fcda",
   "metadata": {},
   "outputs": [
    {
     "data": {
      "image/png": "[encoded data removed]",
      "text/plain": [
       "<Figure size 432x288 with 1 Axes>"
      ]
     },
     "metadata": {
      "needs_background": "light"
     },
     "output_type": "display_data"
    }
   ],
   "source": [
    "rcParams[\"axes.linewidth\"] = 2\n",
    "fig, ax = plt.subplots(figsize=(6, 4))\n",
    "\n",
    "bins = np.arange(2300, 42300+500, 500)\n",
    "truncated_data = ax.hist(x=photon_counts, bins=bins, density=True, color=\"blue\")\n",
    "ax.set_xlim(2300, 17300)\n",
    "ax.set_xlabel(\"Photon counts (\" + r\"$10^{4}$\" + \")\", fontsize=21)\n",
    "ax.set_ylabel(\"PD (\" + r\"$10^{-4}$\" + \")\", fontsize=21)\n",
    "ax.tick_params(labelsize=20, width=2, length=6)\n",
    "num_ticks_x = 4\n",
    "ax.xaxis.set_major_locator(ticker.LinearLocator(num_ticks_x))\n",
    "tick_spacing_y = 0.0001\n",
    "ax.ticklabel_format(style=\"sci\", axis=\"y\", scilimits=(0,0))\n",
    "ax.ticklabel_format(style=\"sci\", axis=\"x\", scilimits=(0,0))\n",
    "ax.yaxis.set_major_locator(ticker.MultipleLocator(tick_spacing_y))\n",
    "ax.yaxis.get_offset_text().set_visible(False)\n",
    "ax.xaxis.get_offset_text().set_visible(False)\n",
    "second_axis(ax, \"top\", num_ticks=num_ticks_x)\n",
    "second_axis(ax, \"right\", tick_spacing_y)\n",
    "ax.set_ylim(0, 4e-4)\n",
    "\n",
    "# fit a truncated gamma distribution to the truncated data\n",
    "trunc_y_data = truncated_data[0]\n",
    "trunc_x_data = truncated_data[1][:-1]\n",
    "alpha_values = [3, 1e-3, 10]\n",
    "beta_values = [1/11000, 1/20000, 1/1000]\n",
    "lower_bound = 2300\n",
    "\n",
    "alpha, beta = tgf.trunc_gamma_fit(trunc_y_data, trunc_x_data, alpha_values, beta_values, lower_bound)\n",
    "\n",
    "ax.plot(trunc_x_data, tgf.pdf_truncated_gamma(trunc_x_data, alpha, beta, lower_bound), c=\"orange\",\n",
    "        lw=3)\n",
    "\n",
    "fig.savefig(r\"plt_figures\\photon_counts_distribution.svg\")"
   ]
  },
  {
   "cell_type": "markdown",
   "id": "50ef2231-de42-4c55-96bf-d8c07669f197",
   "metadata": {},
   "source": [
    "The fit of photon counts (orange, truncated gamma distribution) has the following stats:"
   ]
  },
  {
   "cell_type": "code",
   "execution_count": 8,
   "id": "956337ed-d11b-4dc5-b65d-b9e69179c604",
   "metadata": {},
   "outputs": [
    {
     "name": "stdout",
     "output_type": "stream",
     "text": [
      "alpha is 1.00e-03\n",
      "beta is 9.72e-05\n",
      "the mean of the truncated gamma distribution is 7360.81\n",
      "the mean of the underlying non-truncated gamma distribution is 10.29\n"
     ]
    }
   ],
   "source": [
    "print(\"alpha is {:.2e}\".format(alpha))\n",
    "print(\"beta is {:.2e}\".format(beta))\n",
    "gamma_trunc_mean = tgf.mean_trunc_gamma(alpha, beta, 2360)\n",
    "gamma_mean = gamma.stats(a=alpha, scale=1/beta, moments=\"m\")\n",
    "print(\"the mean of the truncated gamma distribution is {:.2f}\".format(gamma_trunc_mean))\n",
    "print(\"the mean of the underlying non-truncated gamma distribution is {:.2f}\".format(gamma_mean))"
   ]
  },
  {
   "cell_type": "markdown",
   "id": "239ddfe1-2c0d-4cf5-8194-9b0a8ff615b4",
   "metadata": {},
   "source": [
    "The mean of the truncated gamma distribution should be similar to the mean of the experimental data. \n",
    "The mean of the underlying non-truncated gamma distribution should later be fed into the simulation."
   ]
  },
  {
   "cell_type": "markdown",
   "id": "735a2ba8-5aad-4ac9-8d60-6c46d6a533e0",
   "metadata": {
    "tags": []
   },
   "source": [
    "### Theoretical calculation of the standard deviation \n",
    "The localization precision is calculated with $\\sigma = \\sqrt{\\frac{\\sigma_{a}^2}{N}(1 + 4 \\tau + \\sqrt{\\frac{2 \\tau}{1+4\\tau}}}$ with $\\sigma_{a}^2 = \\sigma_{PSF}^2+\\frac{a^2}{12}$ and $\\tau = \\frac{2\\pi\\sigma_{a}^2b}{Na^2}$\\\n",
    "$\\sigma_{PSF}$ is the standard deviation of the point spread function, i.e. $\\sigma_{PSF} = \\frac{FWHM}{2\\sqrt{2\\ln{2}}}$\\\n",
    "$a$ is the pixel size\\\n",
    "$b$ is the background photon count per pixel\\\n",
    "$N$ is the photon count of the localization"
   ]
  },
  {
   "cell_type": "code",
   "execution_count": 9,
   "id": "4916c00c-59d1-4fda-8c06-90d893526c5e",
   "metadata": {},
   "outputs": [
    {
     "name": "stdout",
     "output_type": "stream",
     "text": [
      "The computed mean localization precision of experimental data is 8.13\n"
     ]
    }
   ],
   "source": [
    "psf_std = si.fwhm_to_std(480)  \n",
    "photons_background = 148  # per pixel\n",
    "pixel_size = 134\n",
    "\n",
    "# due to the use of a EMCCD camera, a factor of sqrt(2) has to be included (excess noise)\n",
    "computed_cluster_stds = si.compute_cluster_std(psf_std, pixel_size, photon_counts, photons_background, emccd=True)\n",
    "\n",
    "print(f\"The computed mean localization precision of experimental data is {np.mean(computed_cluster_stds):.2f}\")"
   ]
  },
  {
   "cell_type": "markdown",
   "id": "03f5860b-29e0-4006-a8d9-f79afd5a9155",
   "metadata": {},
   "source": [
    "## Fitting of position deltas\n",
    "The position deltas are the differences in x or y coordinate of an offspring to its parent point, i.e. of a localization to its true fluorophore position.\n",
    "\n",
    "The normal distribution can be used to fit the simulated data of constant localization precision. The resulting standard deviation resembles the localization precision.\n",
    "In the case of the simulation of varying localization precisions, the generalized normal distribution is better suited."
   ]
  },
  {
   "cell_type": "code",
   "execution_count": 10,
   "id": "0862f6d5-6812-4663-8bcd-e4852f6bb1ef",
   "metadata": {},
   "outputs": [],
   "source": [
    "photon_counts_mean = gamma_mean  # the mean of the non-truncated distribution is required"
   ]
  },
  {
   "cell_type": "code",
   "execution_count": 11,
   "id": "dcd54dab-583c-4d3b-9e4e-bfc49fc0f8ef",
   "metadata": {},
   "outputs": [],
   "source": [
    "make_param = dict(parent_intensity=1e-5, lower_limit=-15300, upper_limit=15300, cluster_mu=9,\n",
    "                 seed=np.random.default_rng(100), gamma_a=alpha, photons_min=photon_counts_min,\n",
    "                 photons_mean=photon_counts_mean, photons_background=photons_background, psf_std=psf_std, \n",
    "                 pixel_size=pixel_size)\n",
    "samples, labels, parent_samples, mean_cluster_std, cluster_stds, _ = si.make_std_vary(**make_param)"
   ]
  },
  {
   "cell_type": "code",
   "execution_count": 12,
   "id": "e70009d7-b611-4f59-ac06-603104ae1ed1",
   "metadata": {
    "tags": []
   },
   "outputs": [],
   "source": [
    "distribution_spatial_coordinates = []\n",
    "for i, parent in enumerate(parent_samples):\n",
    "    indices = np.where(labels == i)\n",
    "    samples_of_parent = samples[indices]\n",
    "    position_delta = [parent-sample_of_parent for sample_of_parent in samples_of_parent]\n",
    "    distribution_spatial_coordinates.extend(position_delta)\n",
    "distribution_spatial_coordinates = np.concatenate(distribution_spatial_coordinates)"
   ]
  },
  {
   "cell_type": "code",
   "execution_count": 13,
   "id": "080cd380-b4dc-458d-867c-129c537b0fbb",
   "metadata": {},
   "outputs": [],
   "source": [
    "make_param2 = dict(parent_intensity=1e-5, lower_limit=-15300, upper_limit=15300, cluster_mu=9,\n",
    "                  seed=np.random.default_rng(100), cluster_std=mean_cluster_std)\n",
    "samples2, labels2, parent_samples2 = si.make_dstorm(**make_param2)"
   ]
  },
  {
   "cell_type": "code",
   "execution_count": 14,
   "id": "73116f8a-8457-471d-a43f-fa65bc1f4c20",
   "metadata": {},
   "outputs": [],
   "source": [
    "distribution_spatial_coordinates2 = []\n",
    "for i, parent in enumerate(parent_samples2):\n",
    "    indices = np.where(labels2 == i)\n",
    "    samples_of_parent = samples2[indices]\n",
    "    position_delta = [parent-sample_of_parent for sample_of_parent in samples_of_parent]\n",
    "    distribution_spatial_coordinates2.extend(position_delta)\n",
    "distribution_spatial_coordinates2 = np.concatenate(distribution_spatial_coordinates2)"
   ]
  },
  {
   "cell_type": "code",
   "execution_count": 15,
   "id": "f4a120a5-8bc0-4cbe-b1a6-ef27e1a7702f",
   "metadata": {},
   "outputs": [
    {
     "name": "stdout",
     "output_type": "stream",
     "text": [
      "The mean localization precision was 7.63.\n",
      "The norm fit of the constant localization precision is 7.63\n",
      "The norm fit of the varying localization precision is 8.32\n",
      "The parameters of the generalized normal distribution (used to fit the varying localization precision) are beta = 1.170, loc = 0.008, scale = 7.419.\n"
     ]
    }
   ],
   "source": [
    "loc1, scale1 = norm.fit(distribution_spatial_coordinates)\n",
    "loc2, scale2 = norm.fit(distribution_spatial_coordinates2)\n",
    "\n",
    "print(\"The mean localization precision was {:.2f}.\".format(mean_cluster_std))\n",
    "print(\"The norm fit of the constant localization precision is {:.2f}\".format(scale2))\n",
    "print(\"The norm fit of the varying localization precision is {:.2f}\".format(scale1))\n",
    "\n",
    "beta, loc, scale3 = gennorm.fit(distribution_spatial_coordinates)\n",
    "print(f\"The parameters of the generalized normal distribution (used to fit the varying localization precision)\" +\n",
    "      f\" are beta = {beta:.3f}, loc = {loc:.3f}, scale = {scale3:.3f}.\")"
   ]
  },
  {
   "cell_type": "code",
   "execution_count": 16,
   "id": "cdd5a01a-cecc-4599-a20d-6eff77189e53",
   "metadata": {},
   "outputs": [
    {
     "data": {
      "image/png": "[encoded data removed]",
      "text/plain": [
       "<Figure size 432x288 with 1 Axes>"
      ]
     },
     "metadata": {
      "needs_background": "light"
     },
     "output_type": "display_data"
    }
   ],
   "source": [
    "rcParams[\"axes.linewidth\"] = 2\n",
    "fig, ax = plt.subplots()\n",
    "x = np.arange(-50, 51, 1)\n",
    "ax.hist(distribution_spatial_coordinates, density=True, bins=100, color=\"orange\", alpha=0.5);\n",
    "ax.plot(x, gennorm.pdf(x, beta, scale=scale3), color=\"orange\", ls=(0, (1, 3)), lw=3)\n",
    "ax.hist(distribution_spatial_coordinates2, density=True, bins=100, color=\"blue\", alpha=0.3);\n",
    "ax.plot(x, norm.pdf(x, scale=scale1), color=\"blue\", ls=(0, (1, 3)), lw=3)\n",
    "ax.set_xlim(-50, 50)\n",
    "num_ticks_x = 5\n",
    "ax.xaxis.set_major_locator(ticker.LinearLocator(num_ticks_x))\n",
    "tick_spacing_y = 0.04\n",
    "ax.yaxis.set_major_locator(ticker.MultipleLocator(tick_spacing_y))\n",
    "ax.yaxis.get_offset_text().set_visible(False)\n",
    "ax.ticklabel_format(style=\"sci\", axis=\"y\", scilimits=(0,0))\n",
    "second_axis(ax, \"top\", num_ticks=num_ticks_x)\n",
    "second_axis(ax, \"right\", tick_spacing_y)\n",
    "ax.set_ylim(0, 0.08)\n",
    "ax.tick_params(labelsize=20, width=2, length=6)\n",
    "ax.set_ylabel(\"PD (\" + r\"$10^{-2}$\" + \")\", fontsize=21)\n",
    "ax.set_xlabel(\"$\\u0394_{pos}$\", fontsize=21)\n",
    "\n",
    "fig.savefig(r\"plt_figures\\position_deltas.svg\")"
   ]
  },
  {
   "cell_type": "markdown",
   "id": "f368bcd6-f945-42f4-94ad-a47162503898",
   "metadata": {},
   "source": [
    "## Localization precision distribution\n",
    "Since the intensities / photons are gamma distributed and the localization precision is connected via $\\frac{1}{\\sqrt{photons}}$, the resulting distribution of localization precisions follows an inverse Nakagami-m (INK) disitribution. The highest value corresponds to the lowest photon count or intensity."
   ]
  },
  {
   "cell_type": "code",
   "execution_count": 17,
   "id": "a8a98c3e-835f-419a-b8f5-71439631388c",
   "metadata": {},
   "outputs": [
    {
     "data": {
      "image/png": "[encoded data removed]",
      "text/plain": [
       "<Figure size 432x288 with 1 Axes>"
      ]
     },
     "metadata": {
      "needs_background": "light"
     },
     "output_type": "display_data"
    }
   ],
   "source": [
    "rcParams[\"axes.linewidth\"] = 2\n",
    "fig, ax = plt.subplots(figsize=(6, 4))\n",
    "ax.hist(x=cluster_stds, bins=20, density=True, color=\"blue\")\n",
    "ax.axvline(x=mean_cluster_std, color=\"k\", ls=\"--\")\n",
    "ax.set_xlim(0, 16)\n",
    "ax.set_xlabel(r\"$\\sigma$\", fontsize=21)\n",
    "ax.set_ylabel(\"PD\", fontsize=21)\n",
    "ax.tick_params(labelsize=20, width=2, length=6)\n",
    "num_ticks_x = 5\n",
    "ax.xaxis.set_major_locator(ticker.LinearLocator(num_ticks_x))\n",
    "tick_spacing_y = 0.05\n",
    "ax.yaxis.set_major_locator(ticker.MultipleLocator(tick_spacing_y))\n",
    "second_axis(ax, \"top\", num_ticks=num_ticks_x)\n",
    "second_axis(ax, \"right\", tick_spacing_y)\n",
    "ax.set_ylim(0, 0.15)\n",
    "\n",
    "fig.savefig(r\"plt_figures\\std_distribution_INK.svg\")"
   ]
  },
  {
   "cell_type": "markdown",
   "id": "bd13d3f1-c1a8-4864-b9bb-4fa110b035e5",
   "metadata": {},
   "source": [
    "## 2D Histograms of the area of the convex hull per n"
   ]
  },
  {
   "cell_type": "markdown",
   "id": "859fa19b-fede-47d1-a516-7f180500ba9a",
   "metadata": {},
   "source": [
    "### Simulation with varying localization precision"
   ]
  },
  {
   "cell_type": "code",
   "execution_count": 21,
   "id": "2446d7d7-c1ee-47c1-bfaa-61deeb6e4a08",
   "metadata": {
    "tags": []
   },
   "outputs": [
    {
     "name": "stdout",
     "output_type": "stream",
     "text": [
      "The mean localization precision is 7.59\n"
     ]
    }
   ],
   "source": [
    "photon_counts_mean = gamma_mean  # the mean of the non-truncated distribution is required\n",
    "sim_param = dict(parent_intensity=1e-5, lower_limit=-5300, upper_limit=5300, cluster_mu=9, min_samples=3,\n",
    "                 seed=np.random.default_rng(100), gamma_a=alpha, photons_min=photon_counts_min,\n",
    "                 photons_mean=photon_counts_mean, photons_background=photons_background, psf_std=psf_std, \n",
    "                 pixel_size=pixel_size, emccd=True)  # the limits are chosen such that the number of clusters is \n",
    "# similar to experimental cluster counts\n",
    "\n",
    "samples_vary, labels_vary, _, mean_cluster_std, cluster_stds, photons, _ = si.sim_std_vary(**sim_param)\n",
    "print(f\"The mean localization precision is {mean_cluster_std:.2f}\")\n",
    "_, sample_count_vary, area_chs_vary, _ = cp.cluster_property(labels_vary, samples_vary)\n",
    "\n",
    "varying_cluster_std = np.concatenate(([sample_count_vary], [area_chs_vary]))  # for 2D histogram"
   ]
  },
  {
   "cell_type": "markdown",
   "id": "56aad9b4-96f8-4422-b6bc-305aa6cdd5a1",
   "metadata": {
    "tags": []
   },
   "source": [
    "### Simulation with constant localization precision"
   ]
  },
  {
   "cell_type": "code",
   "execution_count": 35,
   "id": "f7a376fe-f909-46b2-96f3-3a249d8fe1f5",
   "metadata": {},
   "outputs": [],
   "source": [
    "sim_param = dict(parent_intensity=1e-5, lower_limit=-5300, upper_limit=5300, cluster_mu=9, \n",
    "                 cluster_std=mean_cluster_std, seed=np.random.default_rng(100), min_samples=3)\n",
    "\n",
    "samples_const, labels_const, _ = si.sim_dstorm(**sim_param)\n",
    "_, sample_count_const, area_chs_const, _ = cp.cluster_property(labels_const, samples_const)\n",
    "\n",
    "constant_cluster_std = np.concatenate(([sample_count_const], [area_chs_const]))  # for 2D histogram"
   ]
  },
  {
   "cell_type": "markdown",
   "id": "da61b44e-7541-4514-abb5-9bea37d82555",
   "metadata": {},
   "source": [
    "Top left: Experimental data (CD45)\\\n",
    "Bottom left: Simulation with varying localization precisions\\\n",
    "Top right: Simulation with constant localization precision"
   ]
  },
  {
   "cell_type": "code",
   "execution_count": 36,
   "id": "c179aab7-ace6-4287-acfd-2518f1b58dd8",
   "metadata": {},
   "outputs": [
    {
     "data": {
      "image/png": "[encoded data removed]",
      "text/plain": [
       "<Figure size 817.92x511.2 with 7 Axes>"
      ]
     },
     "metadata": {
      "needs_background": "light"
     },
     "output_type": "display_data"
    }
   ],
   "source": [
    "rcParams[\"axes.linewidth\"] = 2\n",
    "fig, ax = plt.subplots(2, 2, figsize=(11.36, 7.1))\n",
    "fig.subplots_adjust(hspace=0.3, wspace=0.7, top=1)\n",
    "axes = bh.axis.AxesTuple((\n",
    "    bh.axis.Regular(20, 3, 103, transform=bh.axis.transform.log),\n",
    "    bh.axis.Regular(50, 1, 15000, transform=bh.axis.transform.log)\n",
    "))\n",
    "histogram = bh.Histogram(*axes)\n",
    "y_1 = [experimental_data, varying_cluster_std, constant_cluster_std]\n",
    "vmax = [18, 18, 18]\n",
    "cbar_spacing = [6, 6, 6]\n",
    "axeses = np.concatenate((ax[:, 0], ax[:, 1]))\n",
    "\n",
    "\n",
    "for i, axis in enumerate(axeses):\n",
    "    if i == 3:\n",
    "        continue\n",
    "    histogram.reset()\n",
    "    histogram.fill(*y_1[i])\n",
    "    mesh = axis.pcolormesh(*histogram.axes.edges.T, histogram.view().T, vmin=0, vmax=vmax[i], \n",
    "                           cmap=cc.m_gray.reversed(), zorder=0)\n",
    "    cbar = fig.colorbar(mesh, ax=axis)\n",
    "    cbar.ax.yaxis.set_major_locator(ticker.MultipleLocator(cbar_spacing[i]))\n",
    "    cbar.ax.tick_params(width=2, length=4, labelsize=20)\n",
    "    axis.set_xscale(\"log\")\n",
    "    axis.set_yscale(\"log\")\n",
    "    axis.set_ylabel(r\"$A_{ch}$\", fontsize=21)\n",
    "    axis.set_xlabel(r\"$n$\", fontsize=21)\n",
    "    tick_spacing_x = 10\n",
    "    axis.xaxis.set_major_locator(ticker.LogLocator(base=tick_spacing_x))\n",
    "    tick_spacing_y = 100\n",
    "    axis.yaxis.set_major_locator(ticker.LogLocator(base=tick_spacing_y))\n",
    "    axis.tick_params(labelsize=20, width=2, length=6)\n",
    "    axis.yaxis.set_minor_locator(ticker.LogLocator(numticks=10, subs=(1., 10.), base=10))\n",
    "    axis.xaxis.set_minor_locator(ticker.LogLocator(numticks=10, subs=(2., 3., 4., 5., 6., 7., 8., 9.), base=10))\n",
    "    axis.tick_params(which=\"minor\", width=2, length=4, labelleft=False, left=True)\n",
    "    second_axis_log(axis, \"top\", tick_spacing_x)\n",
    "    second_axis_log(axis, \"right\", tick_spacing_y)\n",
    "    axis.set_ylim(1, 1e4)\n",
    "    xtick = axis.get_xticks()\n",
    "    np.append(xtick, [3])\n",
    "    xtick[-1] = 3\n",
    "    labels = [item.get_text() for item in axis.get_xticklabels()]\n",
    "    for i in range(len(xtick)):\n",
    "        l = int(np.log10(xtick[i]))\n",
    "        labels[i] = r\"$10^{}$\".format(l)\n",
    "    labels[-1] = \"3\"\n",
    "    axis.set_xticks(xtick)\n",
    "    axis.set_xticklabels(labels)\n",
    "    axis.set_xlim(3, 1e2)\n",
    "\n",
    "fig.savefig(r\"plt_figures\\simulation_exp_data_2d_histograms.svg\")"
   ]
  }
 ],
 "metadata": {
  "kernelspec": {
   "display_name": "Python 3 (ipykernel)",
   "language": "python",
   "name": "python3"
  },
  "language_info": {
   "codemirror_mode": {
    "name": "ipython",
    "version": 3
   },
   "file_extension": ".py",
   "mimetype": "text/x-python",
   "name": "python",
   "nbconvert_exporter": "python",
   "pygments_lexer": "ipython3",
   "version": "3.9.12"
  }
 },
 "nbformat": 4,
 "nbformat_minor": 5
}
