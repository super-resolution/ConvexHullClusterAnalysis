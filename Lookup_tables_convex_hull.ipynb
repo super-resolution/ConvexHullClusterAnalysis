{
 "cells": [
  {
   "cell_type": "markdown",
   "id": "0dfd52fd-9001-4543-b3b8-b23e84e58614",
   "metadata": {},
   "source": [
    "# Lookup tables convex hull measures\n",
    "# Convex hull as diagnostic tool in single-molecule localization microscopy\n",
    "## updated last: 05.11.2021"
   ]
  },
  {
   "cell_type": "code",
   "execution_count": null,
   "id": "2b6e3e18-de50-4de8-a580-2c55917feaa7",
   "metadata": {},
   "outputs": [],
   "source": [
    "measure = \"peri_2d\"\n",
    "seed = np.random.default_rng(100)\n",
    "n_max_points = 200\n",
    "n_simulations = 100000\n",
    "sigma = 1\n",
    "quantile_1 = 0.995\n",
    "quantile_2 = 0.005\n",
    "save_to = \"lookup_table_peri_2D.csv\"\n",
    "\n",
    "ch.lookuptable(measure, seed, n_max_points, n_simulations, sigma, quantile_1, quantile_2, save_to)"
   ]
  },
  {
   "cell_type": "code",
   "execution_count": null,
   "id": "5b1e2b06-cec0-4ac5-904b-97f57e6e3fbe",
   "metadata": {},
   "outputs": [],
   "source": [
    "measure = \"area_2d\"\n",
    "seed = np.random.default_rng(100)\n",
    "n_max_points = 200\n",
    "n_simulations = 100000\n",
    "sigma = 1\n",
    "quantile_1 = 0.995\n",
    "quantile_2 = 0.005\n",
    "save_to = \"lookup_table_area_2D.csv\"\n",
    "\n",
    "ch.lookuptable(measure, seed, n_max_points, n_simulations, sigma, quantile_1, quantile_2, save_to)"
   ]
  },
  {
   "cell_type": "code",
   "execution_count": null,
   "id": "76cab4d5-7946-407c-b664-e2b547ec74c8",
   "metadata": {},
   "outputs": [],
   "source": [
    "measure = \"area_3d\"\n",
    "seed = np.random.default_rng(100)\n",
    "n_max_points = 200\n",
    "n_simulations = 100000\n",
    "sigma = 1\n",
    "quantile_1 = 0.995\n",
    "quantile_2 = 0.005\n",
    "save_to = \"lookup_table_area_3D.csv\"\n",
    "\n",
    "ch.lookuptable(measure, seed, n_max_points, n_simulations, sigma, quantile_1, quantile_2, save_to)"
   ]
  },
  {
   "cell_type": "code",
   "execution_count": null,
   "id": "5c661a77-71d2-4458-bd08-1a39a93d4003",
   "metadata": {},
   "outputs": [],
   "source": [
    "measure = \"vol_3d\"\n",
    "seed = np.random.default_rng(100)\n",
    "n_max_points = 200\n",
    "n_simulations = 100000\n",
    "sigma = 1\n",
    "quantile_1 = 0.995\n",
    "quantile_2 = 0.005\n",
    "save_to = \"lookup_table_volume_3D.csv\"\n",
    "\n",
    "ch.lookuptable(measure, seed, n_max_points, n_simulations, sigma, quantile_1, quantile_2, save_to)"
   ]
  }
 ],
 "metadata": {
  "kernelspec": {
   "display_name": "Python 3 (ipykernel)",
   "language": "python",
   "name": "python3"
  },
  "language_info": {
   "codemirror_mode": {
    "name": "ipython",
    "version": 3
   },
   "file_extension": ".py",
   "mimetype": "text/x-python",
   "name": "python",
   "nbconvert_exporter": "python",
   "pygments_lexer": "ipython3",
   "version": "3.8.10"
  }
 },
 "nbformat": 4,
 "nbformat_minor": 5
}
